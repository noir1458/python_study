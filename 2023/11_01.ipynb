{
 "cells": [
  {
   "attachments": {},
   "cell_type": "markdown",
   "metadata": {},
   "source": [
    "## 컬렉션 관리 함수\n",
    "### enumerate\n",
    "순서값과 요소값 둘을 한꺼번에 구해주는 내장함수로, 리스트의 순서값과 요소값을 튜플로 묶은 컬렉션을 리턴한다. \n",
    "\n",
    "```python\n",
    "score = [88,12,34,23]\n",
    "for no, s in enumerate(score,1):\n",
    "    print(str(no) + \"번 학생의 성적 :\", s)\n",
    "```\n",
    "1번 학생의 성적 : 88\n",
    "2번 학생의 성적 : 12\n",
    "3번 학생의 성적 : 34\n",
    "4번 학생의 성적 : 23\n",
    "\n",
    "\n",
    "### zip\n",
    "여러 개의 컬렉션을 합쳐서 하나로 만든다. 두 리스트의 대응되는 요소끼리 찍을 지어 튜플의 리스트를 생성한다. 두 개의 리스트를 병렬로 순회할 때 편리하다.\n",
    "```python\n",
    "a = ['월','화','수']\n",
    "b = ['1','2','3']\n",
    "test_zip = zip(a,b)\n",
    "for tmp1,tmp2 in test_zip:\n",
    "    print(\"%s 테스트용 : %s\" % (tmp1,tmp2))\n",
    "```\n",
    "월 테스트용 : 1\n",
    "화 테스트용 : 2\n",
    "수 테스트용 : 3\n",
    "\n",
    "합쳐지는 두 리스트는 길이가 달라도 상관이 없으며, 짧은 쪽의 길이에 맞추어지고 긴 쪽의 남는 요소는 사용하지 않는다.  \n",
    "생성되는 튜플의 순서는 원본 리스트의 순서와 같으며, 세 개 이상의 리스트를 인수로 주어서 병합하는 것도 가능하다. 이때는 결과 튜플의 요소도 세 개이다.  \n",
    "zip함수가 사용하는 튜플을 dict함수 로 넘겨서 변환하면 앞 요소를 키로하고 뒤 요소를 값으로 하는 사전이 만들어진다. \n",
    "\n",
    "### any, all\n",
    "any 함수는 리스트를 순회하며, 참인 요소가 하나라도 있는지 조사한다. 반면 all함수는 리스트의 모든 요소가 참인지 조사한다. 리스트에 저장된 모든 요소의 진리값 조합을 구하는 것이다.\n",
    "```python\n",
    "test_anyall = [True,False,True]\n",
    "print(any(test_anyall))\n",
    "print(all(test_anyall))\n",
    "```\n",
    "True\n",
    "False\n",
    "\n",
    "빈 리스트의 경우, any함수는 참이 하나도 없다고 판단하여 거짓이라는 결과가 나오고, all함수는 거짓이 하나도 없다고 판단하여 참이라는 결과가 나온다.\n",
    "\n",
    "\n",
    "## 람다 함수\n",
    "### filter\n",
    "filter함수는 리스트의 요소 중 조건에 맞는 것만 골라낸다, filter(조건지정함수,대상리스트)  \n",
    "함수의 인수로 함수를 전달해야 하며, 함수를 정의해놓고 인수 목록에 이름을 밝히면 된다. filter함수가 리스트를 리턴하므로, for루프로 filter호출식을 순회하면 골라낸 점수를 모두 구할 수 있다.  \n",
    "조건을 점검하는것이 단순한 값이나 수식이 아닌 동작이라서 함수가 필요하고, 모든 요소에 대해 함수를 호출하여 제어권을 넘겨주므로 자유도가 높다.\n",
    "```python\n",
    "def flunk(s):\n",
    "    return s<60\n",
    "score = [45,89,72,53,94]\n",
    "for s in filter(flunk,score):\n",
    "    print(s)\n",
    "```\n",
    "45\n",
    "53\n",
    "\n",
    "### map\n",
    "map함수는 모든 요소에 대해 변환 함수를 호출하여 새 요소값으로 구성된 리스트를 생성한다. map(함수,리스트)  \n",
    "원본인 score리스트는 읽기만 할 뿐 변경하지는 않는다.\n",
    "```python\n",
    "def half(s):\n",
    "    return s/2\n",
    "score = [45,89,72,53,94]\n",
    "for s in map(half,score):\n",
    "    print(s, end=', ')\n",
    "```\n",
    "22.5, 44.5, 36.0, 26.5, 47.0, \n",
    "\n",
    "\n",
    "두개 이상의 리스트를 받아 각 리스트의 요소를 조합할수도 있는데, 이때 변환 함수는 두개의 요소값을 전달받아야 하므로 대상 리스트 인수가 2개여야 한다.\n",
    "```python\n",
    "def total(s,b):\n",
    "    return s+b\n",
    "score = [45,89,72,53,94]\n",
    "bonus = [2,3,0,0,5]\n",
    "for s in map(total,score,bonus):\n",
    "    print(s, end=\", \")\n",
    "```\n",
    "47, 92, 72, 53, 99, \n",
    "\n"
   ]
  },
  {
   "cell_type": "code",
   "execution_count": 1,
   "metadata": {},
   "outputs": [
    {
     "name": "stdout",
     "output_type": "stream",
     "text": [
      "1번 학생의 성적 : 88\n",
      "2번 학생의 성적 : 12\n",
      "3번 학생의 성적 : 34\n",
      "4번 학생의 성적 : 23\n"
     ]
    }
   ],
   "source": [
    "score = [88,12,34,23]\n",
    "for no, s in enumerate(score,1):\n",
    "    print(str(no) + \"번 학생의 성적 :\", s)"
   ]
  },
  {
   "cell_type": "code",
   "execution_count": 2,
   "metadata": {},
   "outputs": [
    {
     "name": "stdout",
     "output_type": "stream",
     "text": [
      "월 테스트용 : 1\n",
      "화 테스트용 : 2\n",
      "수 테스트용 : 3\n"
     ]
    }
   ],
   "source": [
    "a = ['월','화','수']\n",
    "b = ['1','2','3']\n",
    "test_zip = zip(a,b)\n",
    "for tmp1,tmp2 in test_zip:\n",
    "    print(\"%s 테스트용 : %s\" % (tmp1,tmp2))"
   ]
  },
  {
   "cell_type": "code",
   "execution_count": 3,
   "metadata": {},
   "outputs": [
    {
     "name": "stdout",
     "output_type": "stream",
     "text": [
      "True\n",
      "False\n"
     ]
    }
   ],
   "source": [
    "test_anyall = [True,False,True]\n",
    "print(any(test_anyall))\n",
    "print(all(test_anyall))"
   ]
  },
  {
   "cell_type": "code",
   "execution_count": 4,
   "metadata": {},
   "outputs": [
    {
     "name": "stdout",
     "output_type": "stream",
     "text": [
      "45\n",
      "53\n"
     ]
    }
   ],
   "source": [
    "def flunk(s):\n",
    "    return s<60\n",
    "score = [45,89,72,53,94]\n",
    "for s in filter(flunk,score):\n",
    "    print(s)"
   ]
  },
  {
   "cell_type": "code",
   "execution_count": 5,
   "metadata": {},
   "outputs": [
    {
     "name": "stdout",
     "output_type": "stream",
     "text": [
      "22.5, 44.5, 36.0, 26.5, 47.0, "
     ]
    }
   ],
   "source": [
    "def half(s):\n",
    "    return s/2\n",
    "score = [45,89,72,53,94]\n",
    "for s in map(half,score):\n",
    "    print(s, end=', ')"
   ]
  },
  {
   "cell_type": "code",
   "execution_count": 6,
   "metadata": {},
   "outputs": [
    {
     "name": "stdout",
     "output_type": "stream",
     "text": [
      "47, 92, 72, 53, 99, "
     ]
    }
   ],
   "source": [
    "def total(s,b):\n",
    "    return s+b\n",
    "score = [45,89,72,53,94]\n",
    "bonus = [2,3,0,0,5]\n",
    "for s in map(total,score,bonus):\n",
    "    print(s, end=\", \")"
   ]
  }
 ],
 "metadata": {
  "kernelspec": {
   "display_name": "Python 3",
   "language": "python",
   "name": "python3"
  },
  "language_info": {
   "codemirror_mode": {
    "name": "ipython",
    "version": 3
   },
   "file_extension": ".py",
   "mimetype": "text/x-python",
   "name": "python",
   "nbconvert_exporter": "python",
   "pygments_lexer": "ipython3",
   "version": "3.10.6"
  },
  "orig_nbformat": 4
 },
 "nbformat": 4,
 "nbformat_minor": 2
}
